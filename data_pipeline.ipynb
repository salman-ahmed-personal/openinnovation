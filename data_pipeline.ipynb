{
 "cells": [
  {
   "cell_type": "code",
   "execution_count": 151,
   "id": "45113b30",
   "metadata": {},
   "outputs": [
    {
     "data": {
      "text/html": [
       "<div>\n",
       "<style scoped>\n",
       "    .dataframe tbody tr th:only-of-type {\n",
       "        vertical-align: middle;\n",
       "    }\n",
       "\n",
       "    .dataframe tbody tr th {\n",
       "        vertical-align: top;\n",
       "    }\n",
       "\n",
       "    .dataframe thead th {\n",
       "        text-align: right;\n",
       "    }\n",
       "</style>\n",
       "<table border=\"1\" class=\"dataframe\">\n",
       "  <thead>\n",
       "    <tr style=\"text-align: right;\">\n",
       "      <th></th>\n",
       "      <th>id</th>\n",
       "      <th>name</th>\n",
       "      <th>username</th>\n",
       "      <th>email</th>\n",
       "      <th>lat</th>\n",
       "      <th>lng</th>\n",
       "    </tr>\n",
       "  </thead>\n",
       "  <tbody>\n",
       "    <tr>\n",
       "      <th>0</th>\n",
       "      <td>1</td>\n",
       "      <td>Leanne Graham</td>\n",
       "      <td>Bret</td>\n",
       "      <td>Sincere@april.biz</td>\n",
       "      <td>-37.3159</td>\n",
       "      <td>81.1496</td>\n",
       "    </tr>\n",
       "    <tr>\n",
       "      <th>1</th>\n",
       "      <td>2</td>\n",
       "      <td>Ervin Howell</td>\n",
       "      <td>Antonette</td>\n",
       "      <td>Shanna@melissa.tv</td>\n",
       "      <td>-43.9509</td>\n",
       "      <td>-34.4618</td>\n",
       "    </tr>\n",
       "    <tr>\n",
       "      <th>2</th>\n",
       "      <td>3</td>\n",
       "      <td>Clementine Bauch</td>\n",
       "      <td>Samantha</td>\n",
       "      <td>Nathan@yesenia.net</td>\n",
       "      <td>-68.6102</td>\n",
       "      <td>-47.0653</td>\n",
       "    </tr>\n",
       "    <tr>\n",
       "      <th>3</th>\n",
       "      <td>4</td>\n",
       "      <td>Patricia Lebsack</td>\n",
       "      <td>Karianne</td>\n",
       "      <td>Julianne.OConner@kory.org</td>\n",
       "      <td>29.4572</td>\n",
       "      <td>-164.2990</td>\n",
       "    </tr>\n",
       "    <tr>\n",
       "      <th>4</th>\n",
       "      <td>5</td>\n",
       "      <td>Chelsey Dietrich</td>\n",
       "      <td>Kamren</td>\n",
       "      <td>Lucio_Hettinger@annie.ca</td>\n",
       "      <td>-31.8129</td>\n",
       "      <td>62.5342</td>\n",
       "    </tr>\n",
       "  </tbody>\n",
       "</table>\n",
       "</div>"
      ],
      "text/plain": [
       "   id              name   username                      email       lat  \\\n",
       "0   1     Leanne Graham       Bret          Sincere@april.biz  -37.3159   \n",
       "1   2      Ervin Howell  Antonette          Shanna@melissa.tv  -43.9509   \n",
       "2   3  Clementine Bauch   Samantha         Nathan@yesenia.net  -68.6102   \n",
       "3   4  Patricia Lebsack   Karianne  Julianne.OConner@kory.org   29.4572   \n",
       "4   5  Chelsey Dietrich     Kamren   Lucio_Hettinger@annie.ca  -31.8129   \n",
       "\n",
       "         lng  \n",
       "0    81.1496  \n",
       "1   -34.4618  \n",
       "2   -47.0653  \n",
       "3  -164.2990  \n",
       "4    62.5342  "
      ]
     },
     "execution_count": 151,
     "metadata": {},
     "output_type": "execute_result"
    },
    {
     "data": {
      "text/plain": [
       "<Figure size 1000x1000 with 0 Axes>"
      ]
     },
     "metadata": {},
     "output_type": "display_data"
    }
   ],
   "source": [
    "'''Sales and Customer data pipeline with aggregations and visualizations'''\n",
    "\n",
    "#All the necessary imports\n",
    "import pandas as pd\n",
    "import requests\n",
    "import datetime\n",
    "import matplotlib.pyplot as plt\n",
    "plt.figure(figsize=(10, 10), dpi=100)\n",
    "from sqlalchemy import create_engine\n",
    "\n",
    "#Vars declaration\n",
    "#**Note API Tokens should be hidden\n",
    "RETAIL_COMPANY_DB = create_engine(\"sqlite:///db/retail_company.db\")  # pass your db url\n",
    "USERS_URL = \"https://jsonplaceholder.typicode.com/users\"\n",
    "WEATHER_API_KEY = \"90040f64fbc913fdfa0513197b181600\"\n",
    "WEATHER_BASE_URL = \"http://api.openweathermap.org/data/2.5/weather?\"\n",
    "\n",
    "\n",
    "#Source_1 : Customer data\n",
    "response = requests.get(USERS_URL)\n",
    "response_json = response.json()\n",
    "user_df=pd.json_normalize(response_json)\n",
    "user_df=user_df[['id','name','username','email','address.geo.lat','address.geo.lng']]\n",
    "user_df.rename(columns={'address.geo.lat':'lat','address.geo.lng':'lng'}, inplace = True)\n",
    "user_df.head()"
   ]
  },
  {
   "cell_type": "code",
   "execution_count": 152,
   "id": "43f53673",
   "metadata": {},
   "outputs": [
    {
     "data": {
      "text/html": [
       "<div>\n",
       "<style scoped>\n",
       "    .dataframe tbody tr th:only-of-type {\n",
       "        vertical-align: middle;\n",
       "    }\n",
       "\n",
       "    .dataframe tbody tr th {\n",
       "        vertical-align: top;\n",
       "    }\n",
       "\n",
       "    .dataframe thead th {\n",
       "        text-align: right;\n",
       "    }\n",
       "</style>\n",
       "<table border=\"1\" class=\"dataframe\">\n",
       "  <thead>\n",
       "    <tr style=\"text-align: right;\">\n",
       "      <th></th>\n",
       "      <th>order_id</th>\n",
       "      <th>customer_id</th>\n",
       "      <th>product_id</th>\n",
       "      <th>quantity</th>\n",
       "      <th>price</th>\n",
       "      <th>order_date</th>\n",
       "    </tr>\n",
       "  </thead>\n",
       "  <tbody>\n",
       "    <tr>\n",
       "      <th>0</th>\n",
       "      <td>2334</td>\n",
       "      <td>5</td>\n",
       "      <td>40</td>\n",
       "      <td>3</td>\n",
       "      <td>35.60</td>\n",
       "      <td>2022-06-21</td>\n",
       "    </tr>\n",
       "    <tr>\n",
       "      <th>1</th>\n",
       "      <td>6228</td>\n",
       "      <td>8</td>\n",
       "      <td>13</td>\n",
       "      <td>7</td>\n",
       "      <td>36.52</td>\n",
       "      <td>2023-03-08</td>\n",
       "    </tr>\n",
       "    <tr>\n",
       "      <th>2</th>\n",
       "      <td>7784</td>\n",
       "      <td>9</td>\n",
       "      <td>44</td>\n",
       "      <td>4</td>\n",
       "      <td>46.56</td>\n",
       "      <td>2023-04-22</td>\n",
       "    </tr>\n",
       "    <tr>\n",
       "      <th>3</th>\n",
       "      <td>6588</td>\n",
       "      <td>5</td>\n",
       "      <td>26</td>\n",
       "      <td>1</td>\n",
       "      <td>15.87</td>\n",
       "      <td>2022-10-23</td>\n",
       "    </tr>\n",
       "    <tr>\n",
       "      <th>4</th>\n",
       "      <td>5910</td>\n",
       "      <td>8</td>\n",
       "      <td>32</td>\n",
       "      <td>10</td>\n",
       "      <td>77.00</td>\n",
       "      <td>2022-10-05</td>\n",
       "    </tr>\n",
       "  </tbody>\n",
       "</table>\n",
       "</div>"
      ],
      "text/plain": [
       "   order_id  customer_id  product_id  quantity  price  order_date\n",
       "0      2334            5          40         3  35.60  2022-06-21\n",
       "1      6228            8          13         7  36.52  2023-03-08\n",
       "2      7784            9          44         4  46.56  2023-04-22\n",
       "3      6588            5          26         1  15.87  2022-10-23\n",
       "4      5910            8          32        10  77.00  2022-10-05"
      ]
     },
     "execution_count": 152,
     "metadata": {},
     "output_type": "execute_result"
    }
   ],
   "source": [
    "#Source_2 : Sales data\n",
    "sales_df=pd.read_csv('source_data/random_data.csv')\n",
    "sales_df.head()"
   ]
  },
  {
   "cell_type": "code",
   "execution_count": 153,
   "id": "3282cba4",
   "metadata": {},
   "outputs": [
    {
     "data": {
      "text/html": [
       "<div>\n",
       "<style scoped>\n",
       "    .dataframe tbody tr th:only-of-type {\n",
       "        vertical-align: middle;\n",
       "    }\n",
       "\n",
       "    .dataframe tbody tr th {\n",
       "        vertical-align: top;\n",
       "    }\n",
       "\n",
       "    .dataframe thead th {\n",
       "        text-align: right;\n",
       "    }\n",
       "</style>\n",
       "<table border=\"1\" class=\"dataframe\">\n",
       "  <thead>\n",
       "    <tr style=\"text-align: right;\">\n",
       "      <th></th>\n",
       "      <th>id</th>\n",
       "      <th>name</th>\n",
       "      <th>username</th>\n",
       "      <th>email</th>\n",
       "      <th>lat</th>\n",
       "      <th>lng</th>\n",
       "      <th>order_id</th>\n",
       "      <th>customer_id</th>\n",
       "      <th>product_id</th>\n",
       "      <th>quantity</th>\n",
       "      <th>price</th>\n",
       "      <th>order_date</th>\n",
       "    </tr>\n",
       "  </thead>\n",
       "  <tbody>\n",
       "    <tr>\n",
       "      <th>0</th>\n",
       "      <td>1</td>\n",
       "      <td>Leanne Graham</td>\n",
       "      <td>Bret</td>\n",
       "      <td>Sincere@april.biz</td>\n",
       "      <td>-37.3159</td>\n",
       "      <td>81.1496</td>\n",
       "      <td>4018</td>\n",
       "      <td>1</td>\n",
       "      <td>20</td>\n",
       "      <td>4</td>\n",
       "      <td>36.85</td>\n",
       "      <td>2022-06-18</td>\n",
       "    </tr>\n",
       "    <tr>\n",
       "      <th>1</th>\n",
       "      <td>1</td>\n",
       "      <td>Leanne Graham</td>\n",
       "      <td>Bret</td>\n",
       "      <td>Sincere@april.biz</td>\n",
       "      <td>-37.3159</td>\n",
       "      <td>81.1496</td>\n",
       "      <td>7231</td>\n",
       "      <td>1</td>\n",
       "      <td>38</td>\n",
       "      <td>7</td>\n",
       "      <td>95.54</td>\n",
       "      <td>2023-05-31</td>\n",
       "    </tr>\n",
       "    <tr>\n",
       "      <th>2</th>\n",
       "      <td>1</td>\n",
       "      <td>Leanne Graham</td>\n",
       "      <td>Bret</td>\n",
       "      <td>Sincere@april.biz</td>\n",
       "      <td>-37.3159</td>\n",
       "      <td>81.1496</td>\n",
       "      <td>8994</td>\n",
       "      <td>1</td>\n",
       "      <td>41</td>\n",
       "      <td>2</td>\n",
       "      <td>94.41</td>\n",
       "      <td>2022-07-13</td>\n",
       "    </tr>\n",
       "    <tr>\n",
       "      <th>3</th>\n",
       "      <td>1</td>\n",
       "      <td>Leanne Graham</td>\n",
       "      <td>Bret</td>\n",
       "      <td>Sincere@april.biz</td>\n",
       "      <td>-37.3159</td>\n",
       "      <td>81.1496</td>\n",
       "      <td>3361</td>\n",
       "      <td>1</td>\n",
       "      <td>26</td>\n",
       "      <td>8</td>\n",
       "      <td>82.75</td>\n",
       "      <td>2023-05-04</td>\n",
       "    </tr>\n",
       "    <tr>\n",
       "      <th>4</th>\n",
       "      <td>1</td>\n",
       "      <td>Leanne Graham</td>\n",
       "      <td>Bret</td>\n",
       "      <td>Sincere@april.biz</td>\n",
       "      <td>-37.3159</td>\n",
       "      <td>81.1496</td>\n",
       "      <td>3578</td>\n",
       "      <td>1</td>\n",
       "      <td>10</td>\n",
       "      <td>3</td>\n",
       "      <td>73.61</td>\n",
       "      <td>2023-04-24</td>\n",
       "    </tr>\n",
       "  </tbody>\n",
       "</table>\n",
       "</div>"
      ],
      "text/plain": [
       "   id           name username              email       lat      lng  order_id  \\\n",
       "0   1  Leanne Graham     Bret  Sincere@april.biz  -37.3159  81.1496      4018   \n",
       "1   1  Leanne Graham     Bret  Sincere@april.biz  -37.3159  81.1496      7231   \n",
       "2   1  Leanne Graham     Bret  Sincere@april.biz  -37.3159  81.1496      8994   \n",
       "3   1  Leanne Graham     Bret  Sincere@april.biz  -37.3159  81.1496      3361   \n",
       "4   1  Leanne Graham     Bret  Sincere@april.biz  -37.3159  81.1496      3578   \n",
       "\n",
       "   customer_id  product_id  quantity  price  order_date  \n",
       "0            1          20         4  36.85  2022-06-18  \n",
       "1            1          38         7  95.54  2023-05-31  \n",
       "2            1          41         2  94.41  2022-07-13  \n",
       "3            1          26         8  82.75  2023-05-04  \n",
       "4            1          10         3  73.61  2023-04-24  "
      ]
     },
     "execution_count": 153,
     "metadata": {},
     "output_type": "execute_result"
    }
   ],
   "source": [
    "#Join Sales-Customers\n",
    "merged_df=pd.merge(user_df, sales_df, left_on='id', right_on='customer_id', how='inner')\n",
    "merged_df.head()"
   ]
  },
  {
   "cell_type": "code",
   "execution_count": 154,
   "id": "cdfa90a9",
   "metadata": {},
   "outputs": [],
   "source": [
    "#Source_3 : Weather data\n",
    "def fetch_weather(row):\n",
    "    complete_url = WEATHER_BASE_URL + \"appid=\" + WEATHER_API_KEY + \"&lat=\" + row['lat'] + \"&lon=\" + row.lng + \"&dt=\" + str(row.order_date_unix)\n",
    "    response = requests.get(complete_url)\n",
    "    return response.json()"
   ]
  },
  {
   "cell_type": "code",
   "execution_count": 155,
   "id": "6d3a35c4",
   "metadata": {},
   "outputs": [
    {
     "data": {
      "text/html": [
       "<div>\n",
       "<style scoped>\n",
       "    .dataframe tbody tr th:only-of-type {\n",
       "        vertical-align: middle;\n",
       "    }\n",
       "\n",
       "    .dataframe tbody tr th {\n",
       "        vertical-align: top;\n",
       "    }\n",
       "\n",
       "    .dataframe thead th {\n",
       "        text-align: right;\n",
       "    }\n",
       "</style>\n",
       "<table border=\"1\" class=\"dataframe\">\n",
       "  <thead>\n",
       "    <tr style=\"text-align: right;\">\n",
       "      <th></th>\n",
       "      <th>id</th>\n",
       "      <th>name</th>\n",
       "      <th>username</th>\n",
       "      <th>email</th>\n",
       "      <th>lat</th>\n",
       "      <th>lng</th>\n",
       "      <th>order_id</th>\n",
       "      <th>customer_id</th>\n",
       "      <th>product_id</th>\n",
       "      <th>quantity</th>\n",
       "      <th>price</th>\n",
       "      <th>order_date</th>\n",
       "      <th>order_date_unix</th>\n",
       "      <th>weather_json</th>\n",
       "    </tr>\n",
       "  </thead>\n",
       "  <tbody>\n",
       "    <tr>\n",
       "      <th>0</th>\n",
       "      <td>1</td>\n",
       "      <td>Leanne Graham</td>\n",
       "      <td>Bret</td>\n",
       "      <td>Sincere@april.biz</td>\n",
       "      <td>-37.3159</td>\n",
       "      <td>81.1496</td>\n",
       "      <td>4018</td>\n",
       "      <td>1</td>\n",
       "      <td>20</td>\n",
       "      <td>4</td>\n",
       "      <td>36.85</td>\n",
       "      <td>2022-06-18</td>\n",
       "      <td>1655510400</td>\n",
       "      <td>{'coord': {'lon': 81.1496, 'lat': -37.3159}, '...</td>\n",
       "    </tr>\n",
       "    <tr>\n",
       "      <th>1</th>\n",
       "      <td>1</td>\n",
       "      <td>Leanne Graham</td>\n",
       "      <td>Bret</td>\n",
       "      <td>Sincere@april.biz</td>\n",
       "      <td>-37.3159</td>\n",
       "      <td>81.1496</td>\n",
       "      <td>7231</td>\n",
       "      <td>1</td>\n",
       "      <td>38</td>\n",
       "      <td>7</td>\n",
       "      <td>95.54</td>\n",
       "      <td>2023-05-31</td>\n",
       "      <td>1685491200</td>\n",
       "      <td>{'coord': {'lon': 81.1496, 'lat': -37.3159}, '...</td>\n",
       "    </tr>\n",
       "    <tr>\n",
       "      <th>2</th>\n",
       "      <td>1</td>\n",
       "      <td>Leanne Graham</td>\n",
       "      <td>Bret</td>\n",
       "      <td>Sincere@april.biz</td>\n",
       "      <td>-37.3159</td>\n",
       "      <td>81.1496</td>\n",
       "      <td>8994</td>\n",
       "      <td>1</td>\n",
       "      <td>41</td>\n",
       "      <td>2</td>\n",
       "      <td>94.41</td>\n",
       "      <td>2022-07-13</td>\n",
       "      <td>1657670400</td>\n",
       "      <td>{'coord': {'lon': 81.1496, 'lat': -37.3159}, '...</td>\n",
       "    </tr>\n",
       "    <tr>\n",
       "      <th>3</th>\n",
       "      <td>1</td>\n",
       "      <td>Leanne Graham</td>\n",
       "      <td>Bret</td>\n",
       "      <td>Sincere@april.biz</td>\n",
       "      <td>-37.3159</td>\n",
       "      <td>81.1496</td>\n",
       "      <td>3361</td>\n",
       "      <td>1</td>\n",
       "      <td>26</td>\n",
       "      <td>8</td>\n",
       "      <td>82.75</td>\n",
       "      <td>2023-05-04</td>\n",
       "      <td>1683158400</td>\n",
       "      <td>{'coord': {'lon': 81.1496, 'lat': -37.3159}, '...</td>\n",
       "    </tr>\n",
       "    <tr>\n",
       "      <th>4</th>\n",
       "      <td>1</td>\n",
       "      <td>Leanne Graham</td>\n",
       "      <td>Bret</td>\n",
       "      <td>Sincere@april.biz</td>\n",
       "      <td>-37.3159</td>\n",
       "      <td>81.1496</td>\n",
       "      <td>3578</td>\n",
       "      <td>1</td>\n",
       "      <td>10</td>\n",
       "      <td>3</td>\n",
       "      <td>73.61</td>\n",
       "      <td>2023-04-24</td>\n",
       "      <td>1682294400</td>\n",
       "      <td>{'coord': {'lon': 81.1496, 'lat': -37.3159}, '...</td>\n",
       "    </tr>\n",
       "  </tbody>\n",
       "</table>\n",
       "</div>"
      ],
      "text/plain": [
       "   id           name username              email       lat      lng  order_id  \\\n",
       "0   1  Leanne Graham     Bret  Sincere@april.biz  -37.3159  81.1496      4018   \n",
       "1   1  Leanne Graham     Bret  Sincere@april.biz  -37.3159  81.1496      7231   \n",
       "2   1  Leanne Graham     Bret  Sincere@april.biz  -37.3159  81.1496      8994   \n",
       "3   1  Leanne Graham     Bret  Sincere@april.biz  -37.3159  81.1496      3361   \n",
       "4   1  Leanne Graham     Bret  Sincere@april.biz  -37.3159  81.1496      3578   \n",
       "\n",
       "   customer_id  product_id  quantity  price order_date  order_date_unix  \\\n",
       "0            1          20         4  36.85 2022-06-18       1655510400   \n",
       "1            1          38         7  95.54 2023-05-31       1685491200   \n",
       "2            1          41         2  94.41 2022-07-13       1657670400   \n",
       "3            1          26         8  82.75 2023-05-04       1683158400   \n",
       "4            1          10         3  73.61 2023-04-24       1682294400   \n",
       "\n",
       "                                        weather_json  \n",
       "0  {'coord': {'lon': 81.1496, 'lat': -37.3159}, '...  \n",
       "1  {'coord': {'lon': 81.1496, 'lat': -37.3159}, '...  \n",
       "2  {'coord': {'lon': 81.1496, 'lat': -37.3159}, '...  \n",
       "3  {'coord': {'lon': 81.1496, 'lat': -37.3159}, '...  \n",
       "4  {'coord': {'lon': 81.1496, 'lat': -37.3159}, '...  "
      ]
     },
     "execution_count": 155,
     "metadata": {},
     "output_type": "execute_result"
    }
   ],
   "source": [
    "merged_df['order_date']=pd.to_datetime(merged_df['order_date'])\n",
    "merged_df['order_date_unix']=merged_df['order_date'].apply(lambda x : int((x-datetime.datetime(1970,1,1)).total_seconds()))\n",
    "merged_df['weather_json']=merged_df.apply(fetch_weather, axis=1)\n",
    "merged_df.head()"
   ]
  },
  {
   "cell_type": "code",
   "execution_count": 156,
   "id": "0bbf90ec",
   "metadata": {},
   "outputs": [
    {
     "data": {
      "text/html": [
       "<div>\n",
       "<style scoped>\n",
       "    .dataframe tbody tr th:only-of-type {\n",
       "        vertical-align: middle;\n",
       "    }\n",
       "\n",
       "    .dataframe tbody tr th {\n",
       "        vertical-align: top;\n",
       "    }\n",
       "\n",
       "    .dataframe thead th {\n",
       "        text-align: right;\n",
       "    }\n",
       "</style>\n",
       "<table border=\"1\" class=\"dataframe\">\n",
       "  <thead>\n",
       "    <tr style=\"text-align: right;\">\n",
       "      <th></th>\n",
       "      <th>name</th>\n",
       "      <th>username</th>\n",
       "      <th>email</th>\n",
       "      <th>lat</th>\n",
       "      <th>lng</th>\n",
       "      <th>order_id</th>\n",
       "      <th>customer_id</th>\n",
       "      <th>product_id</th>\n",
       "      <th>quantity</th>\n",
       "      <th>price</th>\n",
       "      <th>order_date</th>\n",
       "      <th>order_date_unix</th>\n",
       "      <th>temp</th>\n",
       "      <th>weather</th>\n",
       "    </tr>\n",
       "  </thead>\n",
       "  <tbody>\n",
       "    <tr>\n",
       "      <th>0</th>\n",
       "      <td>Leanne Graham</td>\n",
       "      <td>Bret</td>\n",
       "      <td>Sincere@april.biz</td>\n",
       "      <td>-37.3159</td>\n",
       "      <td>81.1496</td>\n",
       "      <td>4018</td>\n",
       "      <td>1</td>\n",
       "      <td>20</td>\n",
       "      <td>4</td>\n",
       "      <td>36.85</td>\n",
       "      <td>2022-06-18</td>\n",
       "      <td>1655510400</td>\n",
       "      <td>290.93</td>\n",
       "      <td>Clouds</td>\n",
       "    </tr>\n",
       "    <tr>\n",
       "      <th>1</th>\n",
       "      <td>Leanne Graham</td>\n",
       "      <td>Bret</td>\n",
       "      <td>Sincere@april.biz</td>\n",
       "      <td>-37.3159</td>\n",
       "      <td>81.1496</td>\n",
       "      <td>7231</td>\n",
       "      <td>1</td>\n",
       "      <td>38</td>\n",
       "      <td>7</td>\n",
       "      <td>95.54</td>\n",
       "      <td>2023-05-31</td>\n",
       "      <td>1685491200</td>\n",
       "      <td>290.93</td>\n",
       "      <td>Clouds</td>\n",
       "    </tr>\n",
       "    <tr>\n",
       "      <th>2</th>\n",
       "      <td>Leanne Graham</td>\n",
       "      <td>Bret</td>\n",
       "      <td>Sincere@april.biz</td>\n",
       "      <td>-37.3159</td>\n",
       "      <td>81.1496</td>\n",
       "      <td>8994</td>\n",
       "      <td>1</td>\n",
       "      <td>41</td>\n",
       "      <td>2</td>\n",
       "      <td>94.41</td>\n",
       "      <td>2022-07-13</td>\n",
       "      <td>1657670400</td>\n",
       "      <td>290.93</td>\n",
       "      <td>Clouds</td>\n",
       "    </tr>\n",
       "    <tr>\n",
       "      <th>3</th>\n",
       "      <td>Leanne Graham</td>\n",
       "      <td>Bret</td>\n",
       "      <td>Sincere@april.biz</td>\n",
       "      <td>-37.3159</td>\n",
       "      <td>81.1496</td>\n",
       "      <td>3361</td>\n",
       "      <td>1</td>\n",
       "      <td>26</td>\n",
       "      <td>8</td>\n",
       "      <td>82.75</td>\n",
       "      <td>2023-05-04</td>\n",
       "      <td>1683158400</td>\n",
       "      <td>290.93</td>\n",
       "      <td>Clouds</td>\n",
       "    </tr>\n",
       "    <tr>\n",
       "      <th>4</th>\n",
       "      <td>Leanne Graham</td>\n",
       "      <td>Bret</td>\n",
       "      <td>Sincere@april.biz</td>\n",
       "      <td>-37.3159</td>\n",
       "      <td>81.1496</td>\n",
       "      <td>3578</td>\n",
       "      <td>1</td>\n",
       "      <td>10</td>\n",
       "      <td>3</td>\n",
       "      <td>73.61</td>\n",
       "      <td>2023-04-24</td>\n",
       "      <td>1682294400</td>\n",
       "      <td>290.93</td>\n",
       "      <td>Clouds</td>\n",
       "    </tr>\n",
       "  </tbody>\n",
       "</table>\n",
       "</div>"
      ],
      "text/plain": [
       "            name username              email       lat      lng  order_id  \\\n",
       "0  Leanne Graham     Bret  Sincere@april.biz  -37.3159  81.1496      4018   \n",
       "1  Leanne Graham     Bret  Sincere@april.biz  -37.3159  81.1496      7231   \n",
       "2  Leanne Graham     Bret  Sincere@april.biz  -37.3159  81.1496      8994   \n",
       "3  Leanne Graham     Bret  Sincere@april.biz  -37.3159  81.1496      3361   \n",
       "4  Leanne Graham     Bret  Sincere@april.biz  -37.3159  81.1496      3578   \n",
       "\n",
       "   customer_id  product_id  quantity  price order_date  order_date_unix  \\\n",
       "0            1          20         4  36.85 2022-06-18       1655510400   \n",
       "1            1          38         7  95.54 2023-05-31       1685491200   \n",
       "2            1          41         2  94.41 2022-07-13       1657670400   \n",
       "3            1          26         8  82.75 2023-05-04       1683158400   \n",
       "4            1          10         3  73.61 2023-04-24       1682294400   \n",
       "\n",
       "     temp weather  \n",
       "0  290.93  Clouds  \n",
       "1  290.93  Clouds  \n",
       "2  290.93  Clouds  \n",
       "3  290.93  Clouds  \n",
       "4  290.93  Clouds  "
      ]
     },
     "execution_count": 156,
     "metadata": {},
     "output_type": "execute_result"
    }
   ],
   "source": [
    "#Extracting weather info\n",
    "merged_df['temp']=merged_df['weather_json'].apply(lambda x: x['main']['temp'])\n",
    "merged_df['weather']=merged_df['weather_json'].apply(lambda x: x['weather'][0]['main'])\n",
    "del merged_df['weather_json']\n",
    "del merged_df['id']\n",
    "merged_df.head()"
   ]
  },
  {
   "cell_type": "code",
   "execution_count": 157,
   "id": "f3c037aa",
   "metadata": {},
   "outputs": [],
   "source": [
    "#Calculating total price per product w.r.t quantity\n",
    "merged_df['total_amount']=merged_df['quantity']*merged_df['price']"
   ]
  },
  {
   "cell_type": "code",
   "execution_count": 158,
   "id": "196e1131",
   "metadata": {},
   "outputs": [
    {
     "data": {
      "text/plain": [
       "1000"
      ]
     },
     "execution_count": 158,
     "metadata": {},
     "output_type": "execute_result"
    }
   ],
   "source": [
    "merged_df.to_sql(name='transformed_sales', if_exists='replace', con=RETAIL_COMPANY_DB)"
   ]
  },
  {
   "cell_type": "markdown",
   "id": "01d5b123",
   "metadata": {},
   "source": [
    "### Total sales per customer"
   ]
  },
  {
   "cell_type": "code",
   "execution_count": 159,
   "id": "0ed80a8a",
   "metadata": {},
   "outputs": [
    {
     "data": {
      "text/plain": [
       "10"
      ]
     },
     "execution_count": 159,
     "metadata": {},
     "output_type": "execute_result"
    }
   ],
   "source": [
    "agg_1=merged_df.groupby(by=[\"name\"])['total_amount'].sum()\n",
    "agg_1.to_sql(name='total_sales_per_cust', if_exists='replace', con=RETAIL_COMPANY_DB)"
   ]
  },
  {
   "cell_type": "code",
   "execution_count": 160,
   "id": "f2f4a4ad",
   "metadata": {},
   "outputs": [
    {
     "data": {
      "image/png": "[encoded data removed]",
      "text/plain": [
       "<Figure size 432x288 with 1 Axes>"
      ]
     },
     "metadata": {
      "needs_background": "light"
     },
     "output_type": "display_data"
    }
   ],
   "source": [
    "agg_1.plot(x=\"name\", y=[\"total_amount\"], kind=\"bar\", title='Total sales per customer') \n",
    "plt.savefig(\"visualizations/total_sales_per_cust.jpg\")"
   ]
  },
  {
   "cell_type": "markdown",
   "id": "18ef6466",
   "metadata": {},
   "source": [
    "### Average order quantity per product"
   ]
  },
  {
   "cell_type": "code",
   "execution_count": 161,
   "id": "26029496",
   "metadata": {},
   "outputs": [
    {
     "data": {
      "text/plain": [
       "50"
      ]
     },
     "execution_count": 161,
     "metadata": {},
     "output_type": "execute_result"
    }
   ],
   "source": [
    "agg_2=merged_df.groupby(by=[\"product_id\"])['quantity'].mean()\n",
    "agg_2.to_sql(name='avg_qty_per_prod', if_exists='replace', con=RETAIL_COMPANY_DB)"
   ]
  },
  {
   "cell_type": "code",
   "execution_count": 162,
   "id": "79173ce9",
   "metadata": {},
   "outputs": [
    {
     "data": {
      "image/png": "[encoded data removed]",
      "text/plain": [
       "<Figure size 432x288 with 1 Axes>"
      ]
     },
     "metadata": {
      "needs_background": "light"
     },
     "output_type": "display_data"
    }
   ],
   "source": [
    "agg_2.plot(x=\"product_id\", y=[\"quantity\"], kind=\"bar\", title='Average order quantity per product') \n",
    "plt.savefig(\"visualizations/avg_qty_per_prod.jpg\")"
   ]
  },
  {
   "cell_type": "markdown",
   "id": "e24ffe86",
   "metadata": {},
   "source": [
    "### Top selling products"
   ]
  },
  {
   "cell_type": "code",
   "execution_count": 163,
   "id": "a6de227c",
   "metadata": {},
   "outputs": [
    {
     "data": {
      "text/plain": [
       "10"
      ]
     },
     "execution_count": 163,
     "metadata": {},
     "output_type": "execute_result"
    }
   ],
   "source": [
    "agg_3=merged_df.groupby(by=[\"product_id\"])['quantity'].sum().sort_values(ascending=False)[:10]\n",
    "agg_3.to_sql(name='top_selling_prods', if_exists='replace', con=RETAIL_COMPANY_DB)"
   ]
  },
  {
   "cell_type": "code",
   "execution_count": 164,
   "id": "f66346af",
   "metadata": {},
   "outputs": [
    {
     "data": {
      "image/png": "[encoded data removed]",
      "text/plain": [
       "<Figure size 432x288 with 1 Axes>"
      ]
     },
     "metadata": {
      "needs_background": "light"
     },
     "output_type": "display_data"
    }
   ],
   "source": [
    "agg_3.plot(x=\"product_id\", y=[\"quantity\"], kind=\"bar\", title='Top selling products') \n",
    "plt.savefig(\"visualizations/top_selling_prods.jpg\")"
   ]
  },
  {
   "cell_type": "code",
   "execution_count": 165,
   "id": "2ae274b8",
   "metadata": {},
   "outputs": [],
   "source": [
    "merged_df['order_quarter'] = merged_df['order_date'].dt.year.astype('str') +'-'+ merged_df['order_date'].dt.quarter.astype('str')\n",
    "merged_df['order_month'] = merged_df['order_date'].dt.year.astype('str') +'-'+ merged_df['order_date'].dt.month.astype('str')"
   ]
  },
  {
   "cell_type": "markdown",
   "id": "6665b518",
   "metadata": {},
   "source": [
    "### Quarterly sales"
   ]
  },
  {
   "cell_type": "code",
   "execution_count": 166,
   "id": "d8994eb8",
   "metadata": {},
   "outputs": [
    {
     "data": {
      "text/plain": [
       "5"
      ]
     },
     "execution_count": 166,
     "metadata": {},
     "output_type": "execute_result"
    }
   ],
   "source": [
    "agg_4=merged_df.sort_values(by='order_quarter').groupby(by=[\"order_quarter\"])['quantity'].sum()\n",
    "agg_4.to_sql(name='quat_sales', if_exists='replace', con=RETAIL_COMPANY_DB)"
   ]
  },
  {
   "cell_type": "code",
   "execution_count": 167,
   "id": "6e4a4767",
   "metadata": {},
   "outputs": [
    {
     "data": {
      "image/png": "[encoded data removed]",
      "text/plain": [
       "<Figure size 432x288 with 1 Axes>"
      ]
     },
     "metadata": {
      "needs_background": "light"
     },
     "output_type": "display_data"
    }
   ],
   "source": [
    "agg_4.plot(x=\"order_quarter\", y=[\"quantity\"], kind=\"line\", title='Quarterly sales')\n",
    "plt.savefig(\"visualizations/quat_sales.jpg\")"
   ]
  },
  {
   "cell_type": "markdown",
   "id": "6f15d7bd",
   "metadata": {},
   "source": [
    "### Monthly sales"
   ]
  },
  {
   "cell_type": "code",
   "execution_count": 168,
   "id": "e49f4b42",
   "metadata": {},
   "outputs": [
    {
     "data": {
      "text/plain": [
       "13"
      ]
     },
     "execution_count": 168,
     "metadata": {},
     "output_type": "execute_result"
    }
   ],
   "source": [
    "agg_5=merged_df.sort_values(by='order_month').groupby(by=[\"order_month\"])['quantity'].sum()\n",
    "agg_5.to_sql(name='monthly_sales', if_exists='replace', con=RETAIL_COMPANY_DB)"
   ]
  },
  {
   "cell_type": "code",
   "execution_count": 169,
   "id": "9cb79a3b",
   "metadata": {},
   "outputs": [
    {
     "data": {
      "image/png": "[encoded data removed]",
      "text/plain": [
       "<Figure size 432x288 with 1 Axes>"
      ]
     },
     "metadata": {
      "needs_background": "light"
     },
     "output_type": "display_data"
    }
   ],
   "source": [
    "agg_5.plot(x=\"order_month\", y=[\"quantity\"], kind=\"line\", title='Monthly sales')\n",
    "plt.savefig(\"visualizations/monthly_sales.jpg\")"
   ]
  },
  {
   "cell_type": "markdown",
   "id": "71aacfc7",
   "metadata": {},
   "source": [
    "### Average sales per weather condition"
   ]
  },
  {
   "cell_type": "code",
   "execution_count": 170,
   "id": "0c5f2287",
   "metadata": {},
   "outputs": [
    {
     "data": {
      "text/plain": [
       "3"
      ]
     },
     "execution_count": 170,
     "metadata": {},
     "output_type": "execute_result"
    }
   ],
   "source": [
    "agg_6=merged_df.groupby(by=[\"weather\"])['quantity'].mean()\n",
    "agg_6.to_sql(name='avg_sales_per_weather', if_exists='replace', con=RETAIL_COMPANY_DB)"
   ]
  },
  {
   "cell_type": "code",
   "execution_count": 171,
   "id": "642b6e4c",
   "metadata": {},
   "outputs": [
    {
     "data": {
      "image/png": "[encoded data removed]",
      "text/plain": [
       "<Figure size 432x288 with 1 Axes>"
      ]
     },
     "metadata": {
      "needs_background": "light"
     },
     "output_type": "display_data"
    }
   ],
   "source": [
    "agg_6.plot(x=\"weather\", y=[\"quantity\"], kind=\"bar\", title='Average sales per weather condition') \n",
    "plt.savefig(\"visualizations/avg_sales_per_weather.jpg\")"
   ]
  },
  {
   "cell_type": "code",
   "execution_count": null,
   "id": "9e434f33",
   "metadata": {},
   "outputs": [],
   "source": []
  },
  {
   "cell_type": "code",
   "execution_count": null,
   "id": "15bdafd5",
   "metadata": {},
   "outputs": [],
   "source": []
  }
 ],
 "metadata": {
  "kernelspec": {
   "display_name": "Python 3 (ipykernel)",
   "language": "python",
   "name": "python3"
  },
  "language_info": {
   "codemirror_mode": {
    "name": "ipython",
    "version": 3
   },
   "file_extension": ".py",
   "mimetype": "text/x-python",
   "name": "python",
   "nbconvert_exporter": "python",
   "pygments_lexer": "ipython3",
   "version": "3.9.12"
  }
 },
 "nbformat": 4,
 "nbformat_minor": 5
}
